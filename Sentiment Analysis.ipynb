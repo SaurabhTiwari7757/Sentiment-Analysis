{
 "cells": [
  {
   "cell_type": "code",
   "execution_count": 58,
   "metadata": {},
   "outputs": [],
   "source": [
    "import nltk\n",
    "import random\n",
    "import numpy as np\n",
    "import pandas as pd\n",
    "import seaborn as sns\n",
    "import matplotlib.pyplot as plt\n",
    "from scipy import stats\n",
    "from nltk.tokenize import word_tokenize\n",
    "import re\n",
    "import os"
   ]
  },
  {
   "cell_type": "code",
   "execution_count": 14,
   "metadata": {},
   "outputs": [],
   "source": [
    "df = pd.read_csv(r'Downloads/IMDB Dataset.csv')"
   ]
  },
  {
   "cell_type": "code",
   "execution_count": 15,
   "metadata": {},
   "outputs": [
    {
     "data": {
      "text/html": [
       "<div>\n",
       "<style scoped>\n",
       "    .dataframe tbody tr th:only-of-type {\n",
       "        vertical-align: middle;\n",
       "    }\n",
       "\n",
       "    .dataframe tbody tr th {\n",
       "        vertical-align: top;\n",
       "    }\n",
       "\n",
       "    .dataframe thead th {\n",
       "        text-align: right;\n",
       "    }\n",
       "</style>\n",
       "<table border=\"1\" class=\"dataframe\">\n",
       "  <thead>\n",
       "    <tr style=\"text-align: right;\">\n",
       "      <th></th>\n",
       "      <th>review</th>\n",
       "      <th>sentiment</th>\n",
       "    </tr>\n",
       "  </thead>\n",
       "  <tbody>\n",
       "    <tr>\n",
       "      <th>0</th>\n",
       "      <td>One of the other reviewers has mentioned that ...</td>\n",
       "      <td>positive</td>\n",
       "    </tr>\n",
       "    <tr>\n",
       "      <th>1</th>\n",
       "      <td>A wonderful little production. &lt;br /&gt;&lt;br /&gt;The...</td>\n",
       "      <td>positive</td>\n",
       "    </tr>\n",
       "    <tr>\n",
       "      <th>2</th>\n",
       "      <td>I thought this was a wonderful way to spend ti...</td>\n",
       "      <td>positive</td>\n",
       "    </tr>\n",
       "    <tr>\n",
       "      <th>3</th>\n",
       "      <td>Basically there's a family where a little boy ...</td>\n",
       "      <td>negative</td>\n",
       "    </tr>\n",
       "    <tr>\n",
       "      <th>4</th>\n",
       "      <td>Petter Mattei's \"Love in the Time of Money\" is...</td>\n",
       "      <td>positive</td>\n",
       "    </tr>\n",
       "    <tr>\n",
       "      <th>...</th>\n",
       "      <td>...</td>\n",
       "      <td>...</td>\n",
       "    </tr>\n",
       "    <tr>\n",
       "      <th>49995</th>\n",
       "      <td>I thought this movie did a down right good job...</td>\n",
       "      <td>positive</td>\n",
       "    </tr>\n",
       "    <tr>\n",
       "      <th>49996</th>\n",
       "      <td>Bad plot, bad dialogue, bad acting, idiotic di...</td>\n",
       "      <td>negative</td>\n",
       "    </tr>\n",
       "    <tr>\n",
       "      <th>49997</th>\n",
       "      <td>I am a Catholic taught in parochial elementary...</td>\n",
       "      <td>negative</td>\n",
       "    </tr>\n",
       "    <tr>\n",
       "      <th>49998</th>\n",
       "      <td>I'm going to have to disagree with the previou...</td>\n",
       "      <td>negative</td>\n",
       "    </tr>\n",
       "    <tr>\n",
       "      <th>49999</th>\n",
       "      <td>No one expects the Star Trek movies to be high...</td>\n",
       "      <td>negative</td>\n",
       "    </tr>\n",
       "  </tbody>\n",
       "</table>\n",
       "<p>50000 rows × 2 columns</p>\n",
       "</div>"
      ],
      "text/plain": [
       "                                                  review sentiment\n",
       "0      One of the other reviewers has mentioned that ...  positive\n",
       "1      A wonderful little production. <br /><br />The...  positive\n",
       "2      I thought this was a wonderful way to spend ti...  positive\n",
       "3      Basically there's a family where a little boy ...  negative\n",
       "4      Petter Mattei's \"Love in the Time of Money\" is...  positive\n",
       "...                                                  ...       ...\n",
       "49995  I thought this movie did a down right good job...  positive\n",
       "49996  Bad plot, bad dialogue, bad acting, idiotic di...  negative\n",
       "49997  I am a Catholic taught in parochial elementary...  negative\n",
       "49998  I'm going to have to disagree with the previou...  negative\n",
       "49999  No one expects the Star Trek movies to be high...  negative\n",
       "\n",
       "[50000 rows x 2 columns]"
      ]
     },
     "execution_count": 15,
     "metadata": {},
     "output_type": "execute_result"
    }
   ],
   "source": [
    "df"
   ]
  },
  {
   "cell_type": "code",
   "execution_count": 18,
   "metadata": {},
   "outputs": [
    {
     "data": {
      "text/plain": [
       "(50000, 2)"
      ]
     },
     "execution_count": 18,
     "metadata": {},
     "output_type": "execute_result"
    }
   ],
   "source": [
    "df.shape"
   ]
  },
  {
   "cell_type": "code",
   "execution_count": 21,
   "metadata": {},
   "outputs": [
    {
     "data": {
      "text/plain": [
       "Index(['review', 'sentiment'], dtype='object')"
      ]
     },
     "execution_count": 21,
     "metadata": {},
     "output_type": "execute_result"
    }
   ],
   "source": [
    "df.columns"
   ]
  },
  {
   "cell_type": "code",
   "execution_count": 22,
   "metadata": {},
   "outputs": [
    {
     "data": {
      "text/plain": [
       "negative    25000\n",
       "positive    25000\n",
       "Name: sentiment, dtype: int64"
      ]
     },
     "execution_count": 22,
     "metadata": {},
     "output_type": "execute_result"
    }
   ],
   "source": [
    "df.sentiment.value_counts()"
   ]
  },
  {
   "cell_type": "code",
   "execution_count": 23,
   "metadata": {},
   "outputs": [
    {
     "data": {
      "text/plain": [
       "<bound method DataFrame.info of                                                   review sentiment\n",
       "0      One of the other reviewers has mentioned that ...  positive\n",
       "1      A wonderful little production. <br /><br />The...  positive\n",
       "2      I thought this was a wonderful way to spend ti...  positive\n",
       "3      Basically there's a family where a little boy ...  negative\n",
       "4      Petter Mattei's \"Love in the Time of Money\" is...  positive\n",
       "...                                                  ...       ...\n",
       "49995  I thought this movie did a down right good job...  positive\n",
       "49996  Bad plot, bad dialogue, bad acting, idiotic di...  negative\n",
       "49997  I am a Catholic taught in parochial elementary...  negative\n",
       "49998  I'm going to have to disagree with the previou...  negative\n",
       "49999  No one expects the Star Trek movies to be high...  negative\n",
       "\n",
       "[50000 rows x 2 columns]>"
      ]
     },
     "execution_count": 23,
     "metadata": {},
     "output_type": "execute_result"
    }
   ],
   "source": [
    "df.info"
   ]
  },
  {
   "cell_type": "markdown",
   "metadata": {},
   "source": [
    "To make the DataFrame suitable for analysis by converting its sentiments values to integers:"
   ]
  },
  {
   "cell_type": "code",
   "execution_count": 24,
   "metadata": {},
   "outputs": [
    {
     "data": {
      "text/html": [
       "<div>\n",
       "<style scoped>\n",
       "    .dataframe tbody tr th:only-of-type {\n",
       "        vertical-align: middle;\n",
       "    }\n",
       "\n",
       "    .dataframe tbody tr th {\n",
       "        vertical-align: top;\n",
       "    }\n",
       "\n",
       "    .dataframe thead th {\n",
       "        text-align: right;\n",
       "    }\n",
       "</style>\n",
       "<table border=\"1\" class=\"dataframe\">\n",
       "  <thead>\n",
       "    <tr style=\"text-align: right;\">\n",
       "      <th></th>\n",
       "      <th>review</th>\n",
       "      <th>sentiment</th>\n",
       "    </tr>\n",
       "  </thead>\n",
       "  <tbody>\n",
       "    <tr>\n",
       "      <th>0</th>\n",
       "      <td>One of the other reviewers has mentioned that ...</td>\n",
       "      <td>1</td>\n",
       "    </tr>\n",
       "    <tr>\n",
       "      <th>1</th>\n",
       "      <td>A wonderful little production. &lt;br /&gt;&lt;br /&gt;The...</td>\n",
       "      <td>1</td>\n",
       "    </tr>\n",
       "    <tr>\n",
       "      <th>2</th>\n",
       "      <td>I thought this was a wonderful way to spend ti...</td>\n",
       "      <td>1</td>\n",
       "    </tr>\n",
       "    <tr>\n",
       "      <th>3</th>\n",
       "      <td>Basically there's a family where a little boy ...</td>\n",
       "      <td>0</td>\n",
       "    </tr>\n",
       "    <tr>\n",
       "      <th>4</th>\n",
       "      <td>Petter Mattei's \"Love in the Time of Money\" is...</td>\n",
       "      <td>1</td>\n",
       "    </tr>\n",
       "    <tr>\n",
       "      <th>...</th>\n",
       "      <td>...</td>\n",
       "      <td>...</td>\n",
       "    </tr>\n",
       "    <tr>\n",
       "      <th>49995</th>\n",
       "      <td>I thought this movie did a down right good job...</td>\n",
       "      <td>1</td>\n",
       "    </tr>\n",
       "    <tr>\n",
       "      <th>49996</th>\n",
       "      <td>Bad plot, bad dialogue, bad acting, idiotic di...</td>\n",
       "      <td>0</td>\n",
       "    </tr>\n",
       "    <tr>\n",
       "      <th>49997</th>\n",
       "      <td>I am a Catholic taught in parochial elementary...</td>\n",
       "      <td>0</td>\n",
       "    </tr>\n",
       "    <tr>\n",
       "      <th>49998</th>\n",
       "      <td>I'm going to have to disagree with the previou...</td>\n",
       "      <td>0</td>\n",
       "    </tr>\n",
       "    <tr>\n",
       "      <th>49999</th>\n",
       "      <td>No one expects the Star Trek movies to be high...</td>\n",
       "      <td>0</td>\n",
       "    </tr>\n",
       "  </tbody>\n",
       "</table>\n",
       "<p>50000 rows × 2 columns</p>\n",
       "</div>"
      ],
      "text/plain": [
       "                                                  review  sentiment\n",
       "0      One of the other reviewers has mentioned that ...          1\n",
       "1      A wonderful little production. <br /><br />The...          1\n",
       "2      I thought this was a wonderful way to spend ti...          1\n",
       "3      Basically there's a family where a little boy ...          0\n",
       "4      Petter Mattei's \"Love in the Time of Money\" is...          1\n",
       "...                                                  ...        ...\n",
       "49995  I thought this movie did a down right good job...          1\n",
       "49996  Bad plot, bad dialogue, bad acting, idiotic di...          0\n",
       "49997  I am a Catholic taught in parochial elementary...          0\n",
       "49998  I'm going to have to disagree with the previou...          0\n",
       "49999  No one expects the Star Trek movies to be high...          0\n",
       "\n",
       "[50000 rows x 2 columns]"
      ]
     },
     "execution_count": 24,
     "metadata": {},
     "output_type": "execute_result"
    }
   ],
   "source": [
    "df.sentiment = [1 if s == 'positive' else 0 for s in df.sentiment]\n",
    "df"
   ]
  },
  {
   "cell_type": "markdown",
   "metadata": {},
   "source": [
    "### Data Preprocessing"
   ]
  },
  {
   "cell_type": "markdown",
   "metadata": {},
   "source": [
    "First, we use regular expressions to make the following transformations to the reviews:\n",
    "\n",
    "remove punctuation marks<br>\n",
    "remove HTML tags<br>\n",
    "remove URL's<br>\n",
    "remove characters which are not letters or digits<br>\n",
    "remove successive whitespaces<br>\n",
    "convert to lower case<br>\n",
    "strip whitespaces from the beginning and the end<br>"
   ]
  },
  {
   "cell_type": "code",
   "execution_count": 27,
   "metadata": {},
   "outputs": [],
   "source": [
    "idx = random.randint(0, len(df)-1)"
   ]
  },
  {
   "cell_type": "code",
   "execution_count": 34,
   "metadata": {},
   "outputs": [],
   "source": [
    "before_process = df.iloc[idx][0]  # Storing in \"before_process\" a random example of review before preprocessing"
   ]
  },
  {
   "cell_type": "code",
   "execution_count": 37,
   "metadata": {},
   "outputs": [],
   "source": [
    "def process(x):\n",
    "    x = re.sub('[,\\.!?:()\"]', '', x)\n",
    "    x = re.sub('<.*?>', ' ', x)\n",
    "    x = re.sub('http\\S+', ' ', x)\n",
    "    x = re.sub('[^a-zA-Z0-9]', ' ', x)\n",
    "    x = re.sub('\\s+', ' ', x)\n",
    "    return x.lower().strip()\n",
    "\n",
    "df['review'] = df['review'].apply(lambda x: process(x))\n",
    "after_process = df.iloc[idx][0]"
   ]
  },
  {
   "cell_type": "code",
   "execution_count": 38,
   "metadata": {},
   "outputs": [],
   "source": [
    "sw_set = set(nltk.corpus.stopwords.words('english'))\n",
    "\n",
    "# Defining and applying the function \"sw_remove\" which remove stopwords from reviews\n",
    "def sw_remove(x):\n",
    "    words = nltk.tokenize.word_tokenize(x)\n",
    "    filtered_list = [word for word in words if word not in sw_set]\n",
    "    return ' '.join(filtered_list)\n",
    "\n",
    "df['review'] = df['review'].apply(lambda x: sw_remove(x))\n",
    "after_removal = sw_remove(after_process)"
   ]
  },
  {
   "cell_type": "code",
   "execution_count": 42,
   "metadata": {},
   "outputs": [
    {
     "name": "stdout",
     "output_type": "stream",
     "text": [
      "before preprocessing\n",
      "\n",
      " Only watched this to see Joe Morton in an early role and honestly wished I hadn't bothered, he can and has since, done much better than this crap. Cannot understand why anyone finds this kind of stupidity funny but each to his own; it is an absolute mess and not funny in the least. No wait, ONE line only was funny, where Mr Kent (Joe) and his family are having dinner with this nut job as he's been invited for dinner (Lord alone knows why). Pest to Mr Kent: You know what it's like dog, you've been there Mrs Kent: Not lately, Joe's expression was funny but that's it one line does not make a great comedy and this tat is so far away from being funny it should be consigned to the nearest trash cart, it's only good enough for that. Joe Morton - glad to see you don't appear in rubbish like this anymore; you are far superior and a great great actor.\n",
      "\n",
      "\n",
      "After preprocessing\n",
      "\n",
      " only watched this to see joe morton in an early role and honestly wished i hadn t bothered he can and has since done much better than this crap cannot understand why anyone finds this kind of stupidity funny but each to his own it is an absolute mess and not funny in the least no wait one line only was funny where mr kent joe and his family are having dinner with this nut job as he s been invited for dinner lord alone knows why pest to mr kent you know what it s like dog you ve been there mrs kent not lately joe s expression was funny but that s it one line does not make a great comedy and this tat is so far away from being funny it should be consigned to the nearest trash cart it s only good enough for that joe morton glad to see you don t appear in rubbish like this anymore you are far superior and a great great actor\n",
      "\n",
      "\n",
      "After preprocessing and stopwords removal\n",
      "\n",
      " watched see joe morton early role honestly wished bothered since done much better crap understand anyone finds kind stupidity funny absolute mess funny least wait one line funny mr kent joe family dinner nut job invited dinner lord alone knows pest mr kent know like dog mrs kent lately joe expression funny one line make great comedy tat far away funny consigned nearest trash cart good enough joe morton glad see appear rubbish like anymore far superior great great actor\n"
     ]
    }
   ],
   "source": [
    "print('before preprocessing\\n\\n', before_process)\n",
    "print('\\n\\nAfter preprocessing\\n\\n', after_process)\n",
    "print('\\n\\nAfter preprocessing and stopwords removal\\n\\n', after_removal)"
   ]
  },
  {
   "cell_type": "markdown",
   "metadata": {},
   "source": [
    "### Data Splitting and Tokenization"
   ]
  },
  {
   "cell_type": "code",
   "execution_count": 43,
   "metadata": {},
   "outputs": [],
   "source": [
    "from sklearn.model_selection import train_test_split\n",
    "\n",
    "train_rev, test_rev, train_sent, test_sent = train_test_split(df['review'], df['sentiment'], test_size=0.1, random_state=42)"
   ]
  },
  {
   "cell_type": "markdown",
   "metadata": {},
   "source": [
    "we use the Tokenizer class from keras.preprocessing.text module to create a dictionary of the \"dict_size\" most frequent words present in the reviews (a unique integer is assigned to each word), and we print some of its attributes. The index of the Tokenizer is computed the same way no matter how many most frequent words we use later"
   ]
  },
  {
   "cell_type": "code",
   "execution_count": 46,
   "metadata": {},
   "outputs": [
    {
     "name": "stdout",
     "output_type": "stream",
     "text": [
      "Dictionary size :  35000\n",
      "\n",
      "\n",
      "Length of Tokenizer :  125791\n",
      "\n",
      "\n",
      "Number of documents tokenizer trained on :  50000\n",
      "\n",
      "\n",
      "First 20 entries of tokenizer index \n",
      "\n",
      " [('movie', 1), ('film', 2), ('one', 3), ('like', 4), ('good', 5), ('time', 6), ('even', 7), ('would', 8), ('really', 9), ('story', 10), ('see', 11), ('well', 12), ('much', 13), ('get', 14), ('bad', 15), ('people', 16), ('great', 17), ('also', 18), ('first', 19), ('made', 20)]\n"
     ]
    }
   ],
   "source": [
    "from keras.preprocessing.text import Tokenizer\n",
    "\n",
    "dict_size = 35000\n",
    "tokenizer = Tokenizer(num_words=dict_size)\n",
    "tokenizer.fit_on_texts(df['review'])\n",
    "\n",
    "print('Dictionary size : ', dict_size)\n",
    "print('\\n\\nLength of Tokenizer : ', len(tokenizer.word_index))\n",
    "print('\\n\\nNumber of documents tokenizer trained on : ', tokenizer.document_count)\n",
    "print('\\n\\nFirst 20 entries of tokenizer index \\n\\n', list(tokenizer.word_index.items())[:20])\n"
   ]
  },
  {
   "cell_type": "markdown",
   "metadata": {},
   "source": [
    "We use the texts_to_sequences() function of the Tokenizer class to convert the training reviews and test reviews to lists of sequences of integers (tokens) \"train_rev_tokens\" and \"test_rev_tokens\", and we store in the numpy array \"seq_lengths\" the lengths of the sequences included in \"train_rev_tokens\" and \"test_rev_tokens\"."
   ]
  },
  {
   "cell_type": "code",
   "execution_count": 49,
   "metadata": {},
   "outputs": [],
   "source": [
    "train_rev_tokens = tokenizer.texts_to_sequences(train_rev)"
   ]
  },
  {
   "cell_type": "code",
   "execution_count": 50,
   "metadata": {},
   "outputs": [],
   "source": [
    "test_rev_tokens = tokenizer.texts_to_sequences(test_rev)"
   ]
  },
  {
   "cell_type": "code",
   "execution_count": 52,
   "metadata": {},
   "outputs": [],
   "source": [
    "seq_lengths = np.array([len(sequence) for sequence in train_rev_tokens])"
   ]
  },
  {
   "cell_type": "markdown",
   "metadata": {},
   "source": [
    "If the lengths of the sequences were normally distributed, then a given length could be considered small or large when outside the interval and lengths not belonging to this interval would only represent 5% of the elements of seq_lengths . Here, we follow this heuristics, and thus define an upper bound for the length of sequences accordingly. We are using on training set to define the upper bound to avoid any data leakage or look-ahead bias"
   ]
  },
  {
   "cell_type": "code",
   "execution_count": 54,
   "metadata": {},
   "outputs": [],
   "source": [
    "# Storing in \"upper_bound\" our chosen upper bound for the length of sequences\n",
    "# Computing the percentage of lengths smaller or equal than \"upper_bound\"\n",
    "\n",
    "upper_bound = int(np.mean(seq_lengths) + 2 * np.std(seq_lengths))\n",
    "percentage = stats.percentileofscore(seq_lengths, upper_bound)"
   ]
  },
  {
   "cell_type": "code",
   "execution_count": 55,
   "metadata": {},
   "outputs": [
    {
     "data": {
      "text/plain": [
       "291"
      ]
     },
     "execution_count": 55,
     "metadata": {},
     "output_type": "execute_result"
    }
   ],
   "source": [
    "upper_bound"
   ]
  },
  {
   "cell_type": "code",
   "execution_count": 56,
   "metadata": {},
   "outputs": [
    {
     "data": {
      "text/plain": [
       "94.55888888888889"
      ]
     },
     "execution_count": 56,
     "metadata": {},
     "output_type": "execute_result"
    }
   ],
   "source": [
    "percentage"
   ]
  },
  {
   "cell_type": "code",
   "execution_count": 59,
   "metadata": {},
   "outputs": [
    {
     "data": {
      "image/png": "[encoded data removed]",
      "text/plain": [
       "<Figure size 720x432 with 1 Axes>"
      ]
     },
     "metadata": {},
     "output_type": "display_data"
    }
   ],
   "source": [
    "with sns.axes_style(\"darkgrid\"):\n",
    "\n",
    "    _, hist = plt.subplots(figsize=(10,6))\n",
    "    hist.hist(seq_lengths[seq_lengths < 2*upper_bound], color='darkblue', bins=40, rwidth=0.7)\n",
    "    hist.axvline(np.mean(seq_lengths), color='darkorange', linestyle='--', label='Mean value')\n",
    "    hist.axvline(upper_bound, color='r', linestyle='--', label='Upper bound')\n",
    "\n",
    "    plt.xlabel('Length of sequences in \"train_rev_tokens\"', size='large')\n",
    "    plt.ylabel('Number of samples', size='large')\n",
    "    plt.text(upper_bound, 0, 'test')\n",
    "    plt.legend(fontsize='large', facecolor='palegreen')\n",
    "    plt.xticks(rotation=30)\n",
    "    plt.show()\n"
   ]
  },
  {
   "cell_type": "markdown",
   "metadata": {},
   "source": [
    "The value of upper_bound is 291 and the percentage of sequences in \"train_rev_tokens\" of length smaller or equal than upper_bound is 94.56%.\n"
   ]
  },
  {
   "cell_type": "markdown",
   "metadata": {},
   "source": [
    "Using the pad_sequences() function from keras.preprocessing.sequence module, we transform \"train_rev_tokens\" and \"test_rev_tokens\" into 2D numpy arrays of shape (number of sequences, upper_bound). Sequences of length smaller (resp. larger) than \"upper_bound\" are extended (resp. truncated) to get length equal to \"upper_bound\"."
   ]
  },
  {
   "cell_type": "code",
   "execution_count": 60,
   "metadata": {},
   "outputs": [],
   "source": [
    "from keras.preprocessing.sequence import pad_sequences\n",
    "\n",
    "train_rev_pad = pad_sequences(train_rev_tokens, maxlen=upper_bound)\n",
    "test_rev_pad = pad_sequences(test_rev_tokens, maxlen=upper_bound)\n"
   ]
  },
  {
   "cell_type": "code",
   "execution_count": 61,
   "metadata": {},
   "outputs": [
    {
     "data": {
      "text/plain": [
       "(45000, 291)"
      ]
     },
     "execution_count": 61,
     "metadata": {},
     "output_type": "execute_result"
    }
   ],
   "source": [
    "train_rev_pad.shape"
   ]
  },
  {
   "cell_type": "code",
   "execution_count": 62,
   "metadata": {},
   "outputs": [
    {
     "data": {
      "text/plain": [
       "(5000, 291)"
      ]
     },
     "execution_count": 62,
     "metadata": {},
     "output_type": "execute_result"
    }
   ],
   "source": [
    "test_rev_pad.shape"
   ]
  },
  {
   "cell_type": "markdown",
   "metadata": {},
   "source": [
    "### LSTM Model"
   ]
  },
  {
   "cell_type": "code",
   "execution_count": 63,
   "metadata": {},
   "outputs": [],
   "source": [
    "from keras.models import Sequential\n",
    "from keras.layers import Embedding, LSTM, Dropout, Dense"
   ]
  },
  {
   "cell_type": "markdown",
   "metadata": {},
   "source": [
    "In the model that we use, we set the following parameters:\n",
    "\n",
    "the output dimension of the Embedding layer (dimension of the vector space containing the word embeddings) is \"output_dim\"<br>\n",
    "the number of units of the LSTM layer is \"units_lstm\"<br>\n",
    "the dropout rate of the Dropout layer is \"r\"<br>\n",
    "the activation function of the final Dense layer is sigmoid (this is a natural choice since the output of the model should be a number between 0, for negative reviews, and 1, for positive reviews)\n"
   ]
  },
  {
   "cell_type": "code",
   "execution_count": 65,
   "metadata": {},
   "outputs": [],
   "source": [
    "output_dim = 14\n",
    "units_lstm = 16\n",
    "r = 0.8\n",
    "\n",
    "model = Sequential()\n",
    "model.add(Embedding(input_dim=dict_size, output_dim=output_dim, input_length=upper_bound))\n",
    "model.add(LSTM(units_lstm))\n",
    "model.add(Dropout(r))\n",
    "model.add(Dense(1, activation='sigmoid'))"
   ]
  },
  {
   "cell_type": "code",
   "execution_count": 66,
   "metadata": {},
   "outputs": [
    {
     "name": "stdout",
     "output_type": "stream",
     "text": [
      "Model: \"sequential\"\n",
      "_________________________________________________________________\n",
      " Layer (type)                Output Shape              Param #   \n",
      "=================================================================\n",
      " embedding (Embedding)       (None, 291, 14)           490000    \n",
      "                                                                 \n",
      " lstm (LSTM)                 (None, 16)                1984      \n",
      "                                                                 \n",
      " dropout (Dropout)           (None, 16)                0         \n",
      "                                                                 \n",
      " dense (Dense)               (None, 1)                 17        \n",
      "                                                                 \n",
      "=================================================================\n",
      "Total params: 492,001\n",
      "Trainable params: 492,001\n",
      "Non-trainable params: 0\n",
      "_________________________________________________________________\n"
     ]
    }
   ],
   "source": [
    "model.summary()"
   ]
  },
  {
   "cell_type": "code",
   "execution_count": 68,
   "metadata": {},
   "outputs": [],
   "source": [
    "model.compile(optimizer='adam', loss='bce', metrics='accuracy') #binary cross-entropy (bce) between true labels and predicted labels as loss to minimise during training process"
   ]
  },
  {
   "cell_type": "code",
   "execution_count": 69,
   "metadata": {},
   "outputs": [
    {
     "name": "stdout",
     "output_type": "stream",
     "text": [
      "Epoch 1/4\n",
      "80/80 [==============================] - 29s 316ms/step - loss: 0.6581 - accuracy: 0.6353 - val_loss: 0.5257 - val_accuracy: 0.8164\n",
      "Epoch 2/4\n",
      "80/80 [==============================] - 23s 288ms/step - loss: 0.4351 - accuracy: 0.8557 - val_loss: 0.3223 - val_accuracy: 0.8960\n",
      "Epoch 3/4\n",
      "80/80 [==============================] - 25s 316ms/step - loss: 0.3060 - accuracy: 0.9082 - val_loss: 0.2656 - val_accuracy: 0.9002\n",
      "Epoch 4/4\n",
      "80/80 [==============================] - 24s 297ms/step - loss: 0.2408 - accuracy: 0.9333 - val_loss: 0.2548 - val_accuracy: 0.9024\n"
     ]
    }
   ],
   "source": [
    "validation_split = 0.1\n",
    "batch_size = 512\n",
    "epochs = 4\n",
    "\n",
    "fitted = model.fit(train_rev_pad, train_sent, validation_split=validation_split,\n",
    "                   batch_size=batch_size, epochs=epochs, shuffle=True)"
   ]
  },
  {
   "cell_type": "code",
   "execution_count": 70,
   "metadata": {},
   "outputs": [
    {
     "name": "stdout",
     "output_type": "stream",
     "text": [
      "157/157 [==============================] - 4s 23ms/step - loss: 0.2498 - accuracy: 0.9018\n"
     ]
    }
   ],
   "source": [
    "result= model.evaluate(test_rev_pad, test_sent)"
   ]
  },
  {
   "cell_type": "markdown",
   "metadata": {},
   "source": [
    "we test the trained model on a randomly chosen review from the test set. We display the original review, the sentiment predicted by the model with its probability, and the original (correct) sentiment"
   ]
  },
  {
   "cell_type": "code",
   "execution_count": 72,
   "metadata": {},
   "outputs": [],
   "source": [
    "# Storing in DataFrame \"df_original\" the original reviews and sentiments\n",
    "\n",
    "df_original = pd.read_csv(r'Downloads/IMDB Dataset.csv')\n",
    "\n",
    "# Choosing randomly a review and its sentiment in the test data\n",
    "\n",
    "idx_test = random.randint(0, len(test_sent)-1)\n",
    "idx_original = test_rev.index[idx_test]\n",
    "(original_rev, original_sent) = df_original.iloc[idx_original]\n",
    "\n",
    "# Storing in \"prediction_sent\" the predicted sentiment of the chosen review\n",
    "# Storing in \"probability\" the probability of the predicted sentiment of the chosen review\n",
    "\n",
    "prediction = model.predict(test_rev_pad)[idx_test][0]\n",
    "prediction_sent = 'positive' if prediction >= 0.5 else 'negative'\n",
    "probability = round(prediction if prediction >= 0.5 else 1-prediction, 2)\n"
   ]
  },
  {
   "cell_type": "code",
   "execution_count": 73,
   "metadata": {},
   "outputs": [
    {
     "data": {
      "text/plain": [
       "\"Not like I went in expecting a lot out of it, but I was at least hoping for a fun dumb big budget movie. This isn't even that. This item ranks in the bottom half of all the vampire movies I've ever seen (and believe me, I've seen a lot of them). Bad acting, zero characterization, little to no thought, almost non-existent plot (and that that's there you can drive semi-trucks through the holes in). Sure, it has action and is loud, and has more action, and more noise, and blood, and action... These things alone do not make a good (or even halfway decent) movie. Beats me how some people can say this is the best vampire movie ever made--all I can assume is they haven't seen many. I suggest seeing Near Dark instead.\""
      ]
     },
     "execution_count": 73,
     "metadata": {},
     "output_type": "execute_result"
    }
   ],
   "source": [
    "original_rev"
   ]
  },
  {
   "cell_type": "code",
   "execution_count": 74,
   "metadata": {},
   "outputs": [
    {
     "data": {
      "text/plain": [
       "'negative'"
      ]
     },
     "execution_count": 74,
     "metadata": {},
     "output_type": "execute_result"
    }
   ],
   "source": [
    "prediction_sent"
   ]
  },
  {
   "cell_type": "code",
   "execution_count": 75,
   "metadata": {},
   "outputs": [
    {
     "data": {
      "text/plain": [
       "'negative'"
      ]
     },
     "execution_count": 75,
     "metadata": {},
     "output_type": "execute_result"
    }
   ],
   "source": [
    "original_sent"
   ]
  },
  {
   "cell_type": "code",
   "execution_count": null,
   "metadata": {},
   "outputs": [],
   "source": []
  }
 ],
 "metadata": {
  "kernelspec": {
   "display_name": "Python 3",
   "language": "python",
   "name": "python3"
  },
  "language_info": {
   "codemirror_mode": {
    "name": "ipython",
    "version": 3
   },
   "file_extension": ".py",
   "mimetype": "text/x-python",
   "name": "python",
   "nbconvert_exporter": "python",
   "pygments_lexer": "ipython3",
   "version": "3.8.3"
  }
 },
 "nbformat": 4,
 "nbformat_minor": 4
}
